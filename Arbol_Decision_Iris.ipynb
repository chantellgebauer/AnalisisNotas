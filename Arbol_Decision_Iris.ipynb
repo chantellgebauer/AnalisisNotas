{
  "cells": [
    {
      "cell_type": "markdown",
      "metadata": {
        "id": "view-in-github",
        "colab_type": "text"
      },
      "source": [
        "<a href=\"https://colab.research.google.com/github/chantellgebauer/AnalisisNotas/blob/main/Arbol_Decision_Iris.ipynb\" target=\"_parent\"><img src=\"https://colab.research.google.com/assets/colab-badge.svg\" alt=\"Open In Colab\"/></a>"
      ]
    },
    {
      "cell_type": "markdown",
      "id": "e7bbaada",
      "metadata": {
        "id": "e7bbaada"
      },
      "source": [
        "# 🌳 Árbol de Decisión Simple con el Dataset Iris\n",
        "\n",
        "Este cuaderno muestra un ejemplo práctico y sencillo de cómo utilizar un árbol de decisión en Python usando la biblioteca `scikit-learn`.\n",
        "\n",
        "---\n",
        "\n",
        "### 📌 Objetivo\n",
        "Aprender a clasificar datos usando un árbol de decisión, con el clásico conjunto de datos Iris."
      ]
    },
    {
      "cell_type": "code",
      "execution_count": null,
      "id": "58ec7b77",
      "metadata": {
        "id": "58ec7b77"
      },
      "outputs": [],
      "source": [
        "# Paso 1: Importar librerías necesarias\n",
        "from sklearn.datasets import load_iris\n",
        "from sklearn.tree import DecisionTreeClassifier, plot_tree\n",
        "from sklearn.model_selection import train_test_split\n",
        "from sklearn.metrics import accuracy_score\n",
        "import matplotlib.pyplot as plt"
      ]
    },
    {
      "cell_type": "code",
      "execution_count": null,
      "id": "da297d61",
      "metadata": {
        "id": "da297d61"
      },
      "outputs": [],
      "source": [
        "# Paso 2: Cargar el dataset\n",
        "iris = load_iris()\n",
        "X = iris.data  # características\n",
        "y = iris.target  # etiquetas"
      ]
    },
    {
      "cell_type": "code",
      "execution_count": null,
      "id": "12311479",
      "metadata": {
        "id": "12311479"
      },
      "outputs": [],
      "source": [
        "# Paso 3: Dividir los datos en entrenamiento y prueba\n",
        "X_train, X_test, y_train, y_test = train_test_split(X, y, test_size=0.3, random_state=42)"
      ]
    },
    {
      "cell_type": "code",
      "execution_count": null,
      "id": "cae68f5d",
      "metadata": {
        "id": "cae68f5d"
      },
      "outputs": [],
      "source": [
        "# Paso 4: Crear el modelo de árbol de decisión\n",
        "modelo = DecisionTreeClassifier()\n",
        "modelo.fit(X_train, y_train)"
      ]
    },
    {
      "cell_type": "code",
      "execution_count": null,
      "id": "01f2211d",
      "metadata": {
        "id": "01f2211d"
      },
      "outputs": [],
      "source": [
        "# Paso 5: Hacer predicciones\n",
        "y_pred = modelo.predict(X_test)"
      ]
    },
    {
      "cell_type": "code",
      "execution_count": null,
      "id": "fae8464d",
      "metadata": {
        "id": "fae8464d"
      },
      "outputs": [],
      "source": [
        "# Paso 6: Evaluar el modelo\n",
        "precision = accuracy_score(y_test, y_pred)\n",
        "print(f'Precisión del modelo: {precision:.2f}')"
      ]
    },
    {
      "cell_type": "code",
      "execution_count": null,
      "id": "c052d2f3",
      "metadata": {
        "id": "c052d2f3"
      },
      "outputs": [],
      "source": [
        "# Paso 7: Visualizar el árbol\n",
        "plt.figure(figsize=(12, 8))\n",
        "plot_tree(modelo, filled=True, feature_names=iris.feature_names, class_names=iris.target_names)\n",
        "plt.title(\"Árbol de Decisión - Clasificación de Iris\")\n",
        "plt.show()"
      ]
    },
    {
      "cell_type": "markdown",
      "id": "52830598",
      "metadata": {
        "id": "52830598"
      },
      "source": [
        "Actividad sugerida\n",
        "\n",
        "1. Ejecuta cada celda en orden en Google Colab.\n",
        "2. Observa la precisión del modelo y la estructura del árbol.\n",
        "3. Responde:\n",
        "   - ¿Cuáles son las características más importantes para la clasificación?\n",
        "   - ¿Qué flor fue más fácil de clasificar según el árbol?\n",
        "   - ¿Cómo afecta el cambio en el `test_size` a la precisión?"
      ]
    },
    {
      "cell_type": "markdown",
      "source": [
        "Respuestas:"
      ],
      "metadata": {
        "id": "2mWiZNm4c49d"
      },
      "id": "2mWiZNm4c49d"
    }
  ],
  "metadata": {
    "colab": {
      "provenance": [],
      "include_colab_link": true
    }
  },
  "nbformat": 4,
  "nbformat_minor": 5
}